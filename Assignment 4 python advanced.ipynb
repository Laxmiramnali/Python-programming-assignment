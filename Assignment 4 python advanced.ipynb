{
 "cells": [
  {
   "cell_type": "code",
   "execution_count": null,
   "id": "a65691f2",
   "metadata": {},
   "outputs": [],
   "source": [
    "#Q1. Which two operator overloading methods can you use in your classes to support iteration?\n",
    "\n",
    "init, str are two operator overloading methods can which can be used to support iteration."
   ]
  },
  {
   "cell_type": "code",
   "execution_count": null,
   "id": "44e0506a",
   "metadata": {},
   "outputs": [],
   "source": [
    "#Q2. In what contexts do the two operator overloading methods manage printing?\n",
    "\n",
    "They can mamnage priting or outputting values wuth return statements.\n",
    "\n",
    "In cases where the str() method is not defined, Python uses the repr() method to print the object, as well as to represent the object when str() is called on it."
   ]
  },
  {
   "cell_type": "code",
   "execution_count": 1,
   "id": "1d3a4ab3",
   "metadata": {},
   "outputs": [
    {
     "name": "stdout",
     "output_type": "stream",
     "text": [
      "ashish k\n"
     ]
    }
   ],
   "source": [
    "#Q3. In a class, how do you intercept slice operations?\n",
    "\n",
    "#Shown below-\n",
    "\n",
    "sliced ='ashish kumar singh'.__getitem__(slice(0, 8, 1)) #using slice() and __getitem__ slicing can be achieved in class\n",
    "print(sliced)\n",
    "     "
   ]
  },
  {
   "cell_type": "code",
   "execution_count": 2,
   "id": "b70ae201",
   "metadata": {},
   "outputs": [
    {
     "name": "stdout",
     "output_type": "stream",
     "text": [
      "1\n",
      "(1, 2)\n",
      "(1, 2, 3)\n"
     ]
    }
   ],
   "source": [
    "#The class demo has the __getitem__ method, slicing is comma-separated. \n",
    "#Key prints the sliced object which is passed in class through variable a.\n",
    "\n",
    "class Demo:\n",
    "\tdef __getitem__(self, key):\n",
    "\t\t# print a[1], a[1, 2],\n",
    "\t\t# a[1, 2, 3]\n",
    "\t\tprint(key)\n",
    "\t\t#return key\n",
    "\n",
    "a = Demo()\n",
    "a[1]\n",
    "a[1, 2]\n",
    "a[1, 2, 3]\n",
    "     "
   ]
  },
  {
   "cell_type": "code",
   "execution_count": null,
   "id": "23de4510",
   "metadata": {},
   "outputs": [],
   "source": [
    "#Q4. In a class, how do you capture in-place addition?\n",
    "\n",
    "Python provides the operator x += y to add two objects in-place by calculating the sum x + y and assigning the result to the first operands variable name x. \n",
    "We can set up the in-place addition behavior for our own class by overriding the magic “dunder” method iadd(self, other) in our class definition."
   ]
  },
  {
   "cell_type": "code",
   "execution_count": null,
   "id": "b8ad03f5",
   "metadata": {},
   "outputs": [],
   "source": [
    "#Q5. When is it appropriate to use operator overloading?\n",
    "\n",
    "The operator overloading in Python means provide extended meaning beyond their predefined operational meaning. \n",
    "Such as, we use the \"+\" operator for adding two integers as well as joining two strings or merging two lists. \n",
    "We can achieve this as the \"+\" operator is overloaded by the \"int\" class and \"str\" class.\n",
    "Hence when we have to extended meaning beyond their predefined operational meaning we can use operator overloading,"
   ]
  },
  {
   "cell_type": "code",
   "execution_count": null,
   "id": "db6d19e6",
   "metadata": {},
   "outputs": [],
   "source": []
  },
  {
   "cell_type": "code",
   "execution_count": null,
   "id": "cdb64d10",
   "metadata": {},
   "outputs": [],
   "source": []
  },
  {
   "cell_type": "code",
   "execution_count": null,
   "id": "308d3c62",
   "metadata": {},
   "outputs": [],
   "source": []
  },
  {
   "cell_type": "code",
   "execution_count": null,
   "id": "88702070",
   "metadata": {},
   "outputs": [],
   "source": []
  }
 ],
 "metadata": {
  "kernelspec": {
   "display_name": "Python 3 (ipykernel)",
   "language": "python",
   "name": "python3"
  },
  "language_info": {
   "codemirror_mode": {
    "name": "ipython",
    "version": 3
   },
   "file_extension": ".py",
   "mimetype": "text/x-python",
   "name": "python",
   "nbconvert_exporter": "python",
   "pygments_lexer": "ipython3",
   "version": "3.9.4"
  }
 },
 "nbformat": 4,
 "nbformat_minor": 5
}
