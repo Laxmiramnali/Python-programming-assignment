{
 "cells": [
  {
   "cell_type": "code",
   "execution_count": 6,
   "id": "30bcdbce",
   "metadata": {},
   "outputs": [
    {
     "name": "stdout",
     "output_type": "stream",
     "text": [
      "-5\n",
      "negative number\n"
     ]
    }
   ],
   "source": [
    "#1. Write a Python Program to Check if a Number is Positive, Negative or Zero?\n",
    "\n",
    "n= int(input())\n",
    "\n",
    "if n > 0:\n",
    "    print('positive number')\n",
    "elif n < 0:\n",
    "    print('negative number')\n",
    "else:\n",
    "    print('Zero')"
   ]
  },
  {
   "cell_type": "code",
   "execution_count": 11,
   "id": "4e741950",
   "metadata": {},
   "outputs": [
    {
     "name": "stdout",
     "output_type": "stream",
     "text": [
      "7\n",
      "odd\n"
     ]
    }
   ],
   "source": [
    "#2. Write a Python Program to Check if a Number is Odd or Even?\n",
    "\n",
    "A= int(input())\n",
    "\n",
    "if A%2==0:\n",
    "    print(\"even\")\n",
    "else:\n",
    "    print('odd')"
   ]
  },
  {
   "cell_type": "code",
   "execution_count": 5,
   "id": "b7276dc7",
   "metadata": {},
   "outputs": [
    {
     "name": "stdout",
     "output_type": "stream",
     "text": [
      "not leap\n",
      "not leap\n",
      "not leap\n",
      "not leap\n",
      "not leap\n",
      "not leap\n",
      "not leap\n",
      "not leap\n",
      "not leap\n",
      "not leap\n",
      "2000 leap\n",
      "not leap\n",
      "not leap\n",
      "not leap\n",
      "not leap\n",
      "not leap\n",
      "not leap\n",
      "not leap\n",
      "not leap\n",
      "not leap\n",
      "not leap\n",
      "not leap\n",
      "not leap\n",
      "not leap\n",
      "not leap\n",
      "not leap\n",
      "not leap\n",
      "not leap\n",
      "not leap\n",
      "not leap\n",
      "not leap\n",
      "not leap\n",
      "not leap\n"
     ]
    }
   ],
   "source": [
    "#3. Write a Python Program to Check Leap Year?\n",
    "\n",
    "for Year in range(1990,2023):\n",
    "    if (Year % 400 == 0) :\n",
    "        print(Year,'leap')\n",
    "        \n",
    "    else:\n",
    "        print('not leap')"
   ]
  },
  {
   "cell_type": "code",
   "execution_count": null,
   "id": "2c1f7c89",
   "metadata": {},
   "outputs": [],
   "source": [
    "#4. Write a Python Program to Check Prime Number?\n"
   ]
  },
  {
   "cell_type": "code",
   "execution_count": null,
   "id": "b290fda4",
   "metadata": {},
   "outputs": [],
   "source": [
    "#5. Write a Python Program to Print all Prime Numbers in an Interval of 1-10000?"
   ]
  },
  {
   "cell_type": "code",
   "execution_count": 38,
   "id": "7a20998c",
   "metadata": {},
   "outputs": [
    {
     "name": "stdout",
     "output_type": "stream",
     "text": [
      "Leap Year\n"
     ]
    }
   ],
   "source": []
  },
  {
   "cell_type": "code",
   "execution_count": null,
   "id": "2b5409e4",
   "metadata": {},
   "outputs": [],
   "source": []
  }
 ],
 "metadata": {
  "kernelspec": {
   "display_name": "Python 3 (ipykernel)",
   "language": "python",
   "name": "python3"
  },
  "language_info": {
   "codemirror_mode": {
    "name": "ipython",
    "version": 3
   },
   "file_extension": ".py",
   "mimetype": "text/x-python",
   "name": "python",
   "nbconvert_exporter": "python",
   "pygments_lexer": "ipython3",
   "version": "3.9.4"
  }
 },
 "nbformat": 4,
 "nbformat_minor": 5
}
