{
 "cells": [
  {
   "cell_type": "code",
   "execution_count": null,
   "id": "c95d6b32",
   "metadata": {},
   "outputs": [],
   "source": [
    "#Q1. What is the relationship between classes and modules?\n",
    "\n",
    "Modules are collections of methods and constants. They cannot generate instances.\n",
    "Classes may generate instances (objects), and have per-instance state (instance variables)."
   ]
  },
  {
   "cell_type": "code",
   "execution_count": null,
   "id": "b51db111",
   "metadata": {},
   "outputs": [],
   "source": [
    "#Q2. How do you make instances and classes?\n",
    "\n",
    "Classes can be cretaed with the help of keyword class. \n",
    "To create instances of a class, we can call the class using class name and pass in whatever arguments its init method accepts."
   ]
  },
  {
   "cell_type": "code",
   "execution_count": null,
   "id": "8047bb24",
   "metadata": {},
   "outputs": [],
   "source": [
    "#Q3. Where and how should be class attributes created?\n",
    "\n",
    "Any variable that is bound in a class is a class attribute. Any function defined within a class is a method. Methods receive an instance of the class, conventionally called self, as the first argument. For example\n",
    "\n",
    "\n",
    "class MyClass:\n",
    "    attr1 = 10        #class attributes\n",
    "    attr2 = \"hello\"\n",
    "\n",
    "    def method1(self):\n",
    "        print( MyClass.attr1)   #reference the class attribute\n",
    "\n",
    "    def method2(self):\n",
    "        print( MyClass.attr2)   #reference the class attribute\n",
    "\n",
    "    def method3(self, text):\n",
    "        self.text = text        #instance attribute\n",
    "        print( text, self.text)   #print my argument and my attribute\n",
    "\n",
    "    method4 = method3   #make an alias for method3"
   ]
  },
  {
   "cell_type": "code",
   "execution_count": null,
   "id": "8255d81b",
   "metadata": {},
   "outputs": [],
   "source": [
    "#Q4. Where and how are instance attributes created?\n",
    "\n",
    "Instance attributes are attributes or properties attached to an instance of a class. \n",
    "Instance attributes are defined in the constructor."
   ]
  },
  {
   "cell_type": "code",
   "execution_count": null,
   "id": "581f0a71",
   "metadata": {},
   "outputs": [],
   "source": [
    "#Q5. What does the term &quot;self&quot; in a Python class mean?\n",
    "\n",
    "self represents the instance of the class. By using the “self” keyword we can access the attributes and methods of the class in python. \n",
    "It binds the attributes with the given arguments."
   ]
  },
  {
   "cell_type": "code",
   "execution_count": null,
   "id": "1ab5b833",
   "metadata": {},
   "outputs": [],
   "source": [
    "#Q6. How does a Python class handle operator overloading?\n",
    "\n",
    "The operator overloading in Python means provide extended meaning beyond their predefined operational meaning.\n",
    "Such as, we use the \"+\" operator for adding two integers as well as joining two strings or merging two lists.\n",
    "We can achieve this as the \"+\" operator is overloaded by the \"int\" class and \"str\" class.\n",
    "The user can notice that the same inbuilt operator or function is showing different behaviour for objects of different classes. \n",
    "This process is known as operator overloading. For example:"
   ]
  },
  {
   "cell_type": "code",
   "execution_count": 1,
   "id": "0e3d29de",
   "metadata": {},
   "outputs": [
    {
     "name": "stdout",
     "output_type": "stream",
     "text": [
      "(44, 34)\n"
     ]
    }
   ],
   "source": [
    "class complex_1:  \n",
    "    def __init__(self, X, Y):  \n",
    "        self.X = X  \n",
    "        self.Y = Y  \n",
    "   \n",
    "    # Now, we will add the two objects  \n",
    "    def __add__(self, U):  \n",
    "        return self.X + U.X, self.Y + U.Y  \n",
    "   \n",
    "Object_1 = complex_1(23, 12)  \n",
    "Object_2 = complex_1(21, 22)  \n",
    "Object_3 = Object_1 + Object_2  \n",
    "print (Object_3)  "
   ]
  },
  {
   "cell_type": "code",
   "execution_count": null,
   "id": "39b5156b",
   "metadata": {},
   "outputs": [],
   "source": [
    "#Q7. When do you consider allowing operator overloading of your classes?\n",
    "\n",
    "Suppose that we have two objects which are a physical representation of a class (user-defined data type) and we have to add two objects with binary '+' operator it throws an error, because compiler don't know how to add two objects. \n",
    "So we define a method for an operator and that process is called operator overloading."
   ]
  },
  {
   "cell_type": "code",
   "execution_count": null,
   "id": "7420ee04",
   "metadata": {},
   "outputs": [],
   "source": [
    "#Q8. What is the most popular form of operator overloading?\n",
    "\n",
    "A very popular and convenient example is the Addition (+) operator. the '+' operator operates on two numbers and the same operator operates on two strings.\n",
    "It performs “Addition” on numbers whereas it performs “Concatenation” on strings."
   ]
  },
  {
   "cell_type": "code",
   "execution_count": null,
   "id": "3f217d96",
   "metadata": {},
   "outputs": [],
   "source": [
    "#Q9. What are the two most important concepts to grasp in order to comprehend Python OOP code?\n",
    "\n",
    "Both inheritance and polymorphism are fundamental concepts of object oriented programming.\n",
    "These concepts help us to create code that can be extended and easily maintainable."
   ]
  },
  {
   "cell_type": "code",
   "execution_count": null,
   "id": "fd46a827",
   "metadata": {},
   "outputs": [],
   "source": [
    "#example of inheritance:\n",
    "    Class BaseClass:\n",
    "    {Body}\n",
    "Class DerivedClass(BaseClass):\n",
    "    {Body}"
   ]
  },
  {
   "cell_type": "code",
   "execution_count": 4,
   "id": "87ef6bc9",
   "metadata": {},
   "outputs": [
    {
     "name": "stdout",
     "output_type": "stream",
     "text": [
      "5\n",
      "9\n"
     ]
    }
   ],
   "source": [
    "#example of polymorphism:\n",
    "def add(x, y, z = 0):\n",
    "    return x + y+z\n",
    " \n",
    "# Driver code\n",
    "print(add(2, 3))\n",
    "print(add(2, 3, 4))"
   ]
  },
  {
   "cell_type": "code",
   "execution_count": null,
   "id": "e92767a0",
   "metadata": {},
   "outputs": [],
   "source": []
  }
 ],
 "metadata": {
  "kernelspec": {
   "display_name": "Python 3 (ipykernel)",
   "language": "python",
   "name": "python3"
  },
  "language_info": {
   "codemirror_mode": {
    "name": "ipython",
    "version": 3
   },
   "file_extension": ".py",
   "mimetype": "text/x-python",
   "name": "python",
   "nbconvert_exporter": "python",
   "pygments_lexer": "ipython3",
   "version": "3.9.4"
  }
 },
 "nbformat": 4,
 "nbformat_minor": 5
}
