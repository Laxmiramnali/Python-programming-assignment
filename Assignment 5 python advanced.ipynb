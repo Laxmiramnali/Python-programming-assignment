{
 "cells": [
  {
   "cell_type": "code",
   "execution_count": 8,
   "id": "b615ecad",
   "metadata": {},
   "outputs": [
    {
     "name": "stdout",
     "output_type": "stream",
     "text": [
      "multi_task\n",
      "Name: laxmi\n"
     ]
    }
   ],
   "source": [
    "#Q1. What is the meaning of multiple inheritance?\n",
    "\n",
    "#ans-Multiple inheritance means that a subclass can inherit from two or more superclasses.\n",
    "\n",
    "\n",
    "#multiple inheritence\n",
    "class Ineuron:\n",
    "    company_website = 'https://ineuron.ai/'\n",
    "    name = 'iNeuron'\n",
    " \n",
    "    def contact_details(self):\n",
    "        print('Contact us at ', self.company_website)\n",
    "\n",
    "class OS:\n",
    "    multi_task = True\n",
    "    os_name = 'Windows OS'\n",
    "    name = \"laxmi\"\n",
    "\n",
    "class windows(OS, Ineuron):\n",
    "    def __init__(self):\n",
    "        if self.multi_task is True:\n",
    "            print('multi_task')\n",
    "        print('Name: {}'.format(self.name))\n",
    " \n",
    "windows = windows() "
   ]
  },
  {
   "cell_type": "code",
   "execution_count": 5,
   "id": "1b995861",
   "metadata": {},
   "outputs": [],
   "source": [
    "#Q2. What is the concept of delegation?\n",
    "\n",
    " #Answer : Delegation is an object oriented technique (also called a design pattern). Let's say we have an object x and want to change the behaviour of just one of its methods. we can create a new class that provides a new implementation of the method we're interested in changing and delegates all other methods to the corresponding method of x.\n",
    "\n",
    "# Delegation can be imlemented easily. For example, the following class implements a class that behaves like a file but converts all written data to uppercase:  \n",
    "\n",
    "\n",
    "class UpperOut:\n",
    "  def __init__(self, outfile):\n",
    "    self.__outfile = outfile\n",
    "  def write(self, s):\n",
    "    self.__outfile.write(s.upper())\n",
    "  def __getattr__(self, name):\n",
    "    return getattr(self.__outfile, name)\n",
    "\n",
    "# Here the UpperOut class redefines the write() method to convert the argument string to uppercase before calling the underlying self.__outfile.write() method.\n",
    "# All other methods are delegated to the underlying self.__outfile object. The delegation is accomplished via the __getattr__ method.\n",
    "     \n"
   ]
  },
  {
   "cell_type": "code",
   "execution_count": null,
   "id": "1f3856ec",
   "metadata": {},
   "outputs": [],
   "source": [
    "\n",
    "#Q3. What is the concept of composition?\n",
    "​\n",
    "It is one of the fundamental concepts of Object-Oriented Programming. \n",
    "In this concept, we describe a class that references to one or more objects of other classes as an Instance variable. \n",
    "Here, by using the class name or by creating the object we can access the members of one class inside another class. \n",
    "It enables creating complex types by combining objects of different classes. \n",
    "It means that a class Composite can contain an object of another class Component. \n",
    "This type of relationship is known as Has-A Relation.\n",
    "​\n",
    "class A : # variables of class A # methods of class A ... ... class B : # by using \"obj\" we can access member's of class A. obj = A() # variables of class B # methods of class B ... ..."
   ]
  },
  {
   "cell_type": "code",
   "execution_count": null,
   "id": "97a8e1f3",
   "metadata": {},
   "outputs": [],
   "source": [
    "#Q4. What are bound methods and how do we use them?\n",
    "\n",
    "A bound method is the one which is dependent on the instance of the class as the first argument. \n",
    "It passes the instance as the first argument which is used to access the variables and functions. \n",
    "In Python 3 and newer versions of python, all functions in the class are by default bound methods."
   ]
  },
  {
   "cell_type": "code",
   "execution_count": 9,
   "id": "a39a9766",
   "metadata": {},
   "outputs": [
    {
     "name": "stdout",
     "output_type": "stream",
     "text": [
      "laxmi\n",
      "laxmi\n"
     ]
    }
   ],
   "source": [
    "#Q5. What is the purpose of pseudoprivate attributes?\n",
    "\n",
    "# Pseudoprivate attributes are useful in larger frameworks or tools, both to avoid introducing new method names that might accidentally hide definitions elsewhere in the class tree and to reduce the chance of internal methods being replaced by names defined lower in the tree.\n",
    "\n",
    "\n",
    "class Info:\n",
    "    def __init__(self):\n",
    "        self.__name = 'laxmi'\n",
    "    def __say(self):\n",
    "        return self.__name\n",
    "a = Info()\n",
    "print(a._Info__name) \n",
    "print(a._Info__say()) "
   ]
  },
  {
   "cell_type": "code",
   "execution_count": null,
   "id": "f36de090",
   "metadata": {},
   "outputs": [],
   "source": []
  },
  {
   "cell_type": "code",
   "execution_count": null,
   "id": "5d611fff",
   "metadata": {},
   "outputs": [],
   "source": []
  }
 ],
 "metadata": {
  "kernelspec": {
   "display_name": "Python 3 (ipykernel)",
   "language": "python",
   "name": "python3"
  },
  "language_info": {
   "codemirror_mode": {
    "name": "ipython",
    "version": 3
   },
   "file_extension": ".py",
   "mimetype": "text/x-python",
   "name": "python",
   "nbconvert_exporter": "python",
   "pygments_lexer": "ipython3",
   "version": "3.9.4"
  }
 },
 "nbformat": 4,
 "nbformat_minor": 5
}
