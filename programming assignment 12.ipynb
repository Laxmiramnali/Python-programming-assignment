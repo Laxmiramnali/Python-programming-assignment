{
 "cells": [
  {
   "cell_type": "code",
   "execution_count": 1,
   "id": "04d9a798",
   "metadata": {},
   "outputs": [
    {
     "data": {
      "text/plain": [
       "{1, 1234, 'hello'}"
      ]
     },
     "execution_count": 1,
     "metadata": {},
     "output_type": "execute_result"
    }
   ],
   "source": [
    "#1. Write a Python program to Extract Unique values dictionary values?\n",
    "\n",
    "dict1 = {'k1': 1, 'k2': 1, 'k3': 'hello', 'k4': 'hello', 'k5':1234}\n",
    "unique_values = {i for i in dict1.values()}\n",
    "unique_values"
   ]
  },
  {
   "cell_type": "code",
   "execution_count": 2,
   "id": "57175ea8",
   "metadata": {},
   "outputs": [
    {
     "name": "stdout",
     "output_type": "stream",
     "text": [
      "Sum of all values is : 1407\n"
     ]
    }
   ],
   "source": [
    "#2. Write a Python program to find the sum of all items in a dictionary?\n",
    "\n",
    "test_dict = {'k1' : 89,\n",
    "             'k2' : 111,\n",
    "             'k3' : 123,\n",
    "             'k4' : 5}\n",
    "\n",
    "sum = 0\n",
    "for i in test_dict.values():\n",
    "    sum +=sum + i\n",
    "print(\"Sum of all values is : {}\".format(sum))"
   ]
  },
  {
   "cell_type": "code",
   "execution_count": 3,
   "id": "9395b9f7",
   "metadata": {},
   "outputs": [
    {
     "name": "stdout",
     "output_type": "stream",
     "text": [
      "{'x': 1, 'l': 2, 'k': 3, 'z': 4}\n"
     ]
    }
   ],
   "source": [
    "#3. Write a Python program to Merging two Dictionaries?\n",
    "\n",
    "dict1 = { 'x': 1, 'l': 2}\n",
    "dict2 = { 'k': 3, 'z': 4, 'x': 11}\n",
    "# merging dict2 into dict1\n",
    "for item in dict2.items():\n",
    "    dict1.setdefault(item[0], item[1])\n",
    "print(dict1)"
   ]
  },
  {
   "cell_type": "code",
   "execution_count": 4,
   "id": "85570f84",
   "metadata": {},
   "outputs": [
    {
     "name": "stdout",
     "output_type": "stream",
     "text": [
      "Flattened dictionary : {1: 'Jan', 2: 'Feb', 3: 'March'}\n"
     ]
    }
   ],
   "source": [
    "#4. Write a Python program to convert key-values list to flat dictionary?\n",
    "\n",
    "test_dict = {'month' : [1, 2, 3], 'name' : ['Jan', 'Feb', 'March']}\n",
    "  \n",
    "# Using dict() + zip() to convert key-values list to flat dictionary\n",
    "res = dict(zip(test_dict['month'], test_dict['name']))\n",
    "\n",
    "print(\"Flattened dictionary : \" + str(res)) "
   ]
  },
  {
   "cell_type": "code",
   "execution_count": 5,
   "id": "326ad9e8",
   "metadata": {},
   "outputs": [
    {
     "name": "stdout",
     "output_type": "stream",
     "text": [
      "Ordered Dictionary after insertion : OrderedDict([('Jan', '1'), ('Feb', '2'), ('Mar', '3')])\n"
     ]
    }
   ],
   "source": [
    "#5. Write a Python program to insertion at the beginning in OrderedDict?\n",
    "\n",
    "from collections import OrderedDict\n",
    "  \n",
    "# initialising ordered_dict\n",
    "iniordered_dict = OrderedDict([('Feb', '2'), ('Mar', '3')])\n",
    "  \n",
    "# inserting items in starting of dict \n",
    "iniordered_dict.update({'Jan':'1'})\n",
    "iniordered_dict.move_to_end('Jan', last = False)\n",
    "  \n",
    "# print result\n",
    "print (\"Ordered Dictionary after insertion : \"+str(iniordered_dict))"
   ]
  },
  {
   "cell_type": "code",
   "execution_count": 6,
   "id": "f6d5781f",
   "metadata": {},
   "outputs": [
    {
     "name": "stdout",
     "output_type": "stream",
     "text": [
      "enter string : Programming\n",
      "Enter Pattern : gram\n",
      "OrderedDict([('P', None), ('r', None), ('o', None), ('g', None), ('a', None), ('m', None), ('i', None), ('n', None)])\n",
      "Pattern matched\n"
     ]
    }
   ],
   "source": [
    "#6. Write a Python program to check order of character in string using OrderedDict()?\n",
    "\n",
    "from collections import OrderedDict \n",
    "  \n",
    "def checkOrderofString(str, pattern): \n",
    "      \n",
    "    # create empty OrderedDict \n",
    "    dict = OrderedDict.fromkeys(str) \n",
    "    print(dict)   \n",
    "    ptrlen = 0\n",
    "    for key,value in dict.items(): \n",
    "        \n",
    "        if (key == pattern[ptrlen]): \n",
    "            ptrlen = ptrlen + 1\n",
    "          \n",
    "        # check if we have traverse complete pattern string \n",
    "        if (ptrlen == (len(pattern))):            \n",
    "            return 'true'\n",
    "  \n",
    "    # if we come out from for loop that means order was mismatched \n",
    "    return 'false'\n",
    "  \n",
    "\n",
    "string = input(\"enter string : \")\n",
    "pattern = input(\"Enter Pattern : \")\n",
    "if checkOrderofString(string,pattern):\n",
    "    print(\"Pattern matched\")\n",
    "else:\n",
    "    print(\"Pattern not matched\")"
   ]
  },
  {
   "cell_type": "code",
   "execution_count": 7,
   "id": "cadd1c7a",
   "metadata": {},
   "outputs": [
    {
     "name": "stdout",
     "output_type": "stream",
     "text": [
      "['4', '6', 'k1', 'k2', 'k3', 'key7']\n",
      "[('4', 4), ('6', 6), ('k1', 2), ('k2', 1), ('k3', 3), ('key7', 7)]\n",
      "[1, 2, 3, 4, 6, 7]\n"
     ]
    }
   ],
   "source": [
    "#7. Write a Python program to sort Python Dictionaries by Key or Value?\n",
    "\n",
    "a = {'k1':2, 'k2':1, 'k3':3, '4':4 ,'6':6, 'key7':7}\n",
    "#this will print a sorted list of the keys\n",
    "print(sorted(a.keys()))\n",
    "#this will print the sorted list with items.\n",
    "print(sorted(a.items()))\n",
    "#a = {1:2 ,2:1 ,4:3 ,3:4 ,6:5 ,5:6 }\n",
    "print(sorted(a.values()))\n",
    "#this will print a sorted list of values."
   ]
  },
  {
   "cell_type": "code",
   "execution_count": null,
   "id": "fbb17765",
   "metadata": {},
   "outputs": [],
   "source": [
    "#"
   ]
  },
  {
   "cell_type": "code",
   "execution_count": null,
   "id": "d72c8aef",
   "metadata": {},
   "outputs": [],
   "source": [
    "#"
   ]
  }
 ],
 "metadata": {
  "kernelspec": {
   "display_name": "Python 3 (ipykernel)",
   "language": "python",
   "name": "python3"
  },
  "language_info": {
   "codemirror_mode": {
    "name": "ipython",
    "version": 3
   },
   "file_extension": ".py",
   "mimetype": "text/x-python",
   "name": "python",
   "nbconvert_exporter": "python",
   "pygments_lexer": "ipython3",
   "version": "3.9.4"
  }
 },
 "nbformat": 4,
 "nbformat_minor": 5
}
