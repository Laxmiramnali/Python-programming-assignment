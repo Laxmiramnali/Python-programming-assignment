{
 "cells": [
  {
   "cell_type": "code",
   "execution_count": null,
   "id": "fd485cf4",
   "metadata": {},
   "outputs": [],
   "source": [
    "#Q1. What is the difference between __getattr__ and __getattribute__?\n",
    "\n",
    "getattribute: Is used to retrieve an attribute from an instance. getattr: Is executed as the last resource when attribute is not found in an object."
   ]
  },
  {
   "cell_type": "code",
   "execution_count": null,
   "id": "53ec8f8c",
   "metadata": {},
   "outputs": [],
   "source": [
    "#Q2. What is the difference between properties and descriptors?\n",
    "\n",
    "Descriptors are a low-level mechanism that lets us hook into an object's attributes being accessed. \n",
    "Properties are a high-level application of this. that is, properties are implemented using descriptors."
   ]
  },
  {
   "cell_type": "code",
   "execution_count": null,
   "id": "93e9b70f",
   "metadata": {},
   "outputs": [],
   "source": [
    "#Q3. What are the key differences in functionality between __getattr__ and __getattribute__, as well as properties and descriptors?\n",
    "\n",
    "A key difference between getattr and getattribute is that getattr is only invoked if the attribute wasn't found the usual ways.\n",
    "It's good for implementing a fallback for missing attributes and is probably the one of two you want."
   ]
  },
  {
   "cell_type": "code",
   "execution_count": null,
   "id": "69eeed0f",
   "metadata": {},
   "outputs": [],
   "source": []
  }
 ],
 "metadata": {
  "kernelspec": {
   "display_name": "Python 3 (ipykernel)",
   "language": "python",
   "name": "python3"
  },
  "language_info": {
   "codemirror_mode": {
    "name": "ipython",
    "version": 3
   },
   "file_extension": ".py",
   "mimetype": "text/x-python",
   "name": "python",
   "nbconvert_exporter": "python",
   "pygments_lexer": "ipython3",
   "version": "3.9.4"
  }
 },
 "nbformat": 4,
 "nbformat_minor": 5
}
