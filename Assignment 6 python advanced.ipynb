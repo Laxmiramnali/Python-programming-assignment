{
 "cells": [
  {
   "cell_type": "code",
   "execution_count": null,
   "id": "961ba446",
   "metadata": {},
   "outputs": [],
   "source": [
    "#Q1. Describe three applications for exception processing.\n",
    "\n",
    "Python provides the number of built-in exceptions, but here we are describing the common standard exceptions. A list of common exceptions that can be thrown from a standard Python program is given below.\n",
    "\n",
    "ZeroDivisionError: Occurs when a number is divided by zero.\n",
    "NameError: It occurs when a name is not found. It may be local or global.\n",
    "IndentationError: If incorrect indentation is given.\n",
    "IOError: It occurs when Input Output operation fails.\n",
    "EOFError: It occurs when the end of the file is reached, and yet operations are being performed.\n",
    "Example:"
   ]
  },
  {
   "cell_type": "code",
   "execution_count": 6,
   "id": "95ce6c22",
   "metadata": {},
   "outputs": [
    {
     "name": "stdout",
     "output_type": "stream",
     "text": [
      "Enter a:5\n",
      "Enter b:0\n",
      "can't divide by zero\n",
      "division by zero\n",
      "Hi I am finally block\n"
     ]
    }
   ],
   "source": [
    "#we can alwaws put our code in try expect blocks to handle exceptions\n",
    "try:    \n",
    "    a = int(input(\"Enter a:\"))    \n",
    "    b = int(input(\"Enter b:\"))    \n",
    "    c = a/b  \n",
    "    print(\"a/b = %d\",c)    \n",
    "    # Using exception object with the except statement  \n",
    "except Exception as e:  #general statement to handle different exceptions   \n",
    "    print(\"can't divide by zero\")    \n",
    "    print(e)  \n",
    "else:    \n",
    "    print(\"Hi I am else block\") \n",
    "finally:\n",
    "    print(\"Hi I am finally block\")   "
   ]
  },
  {
   "cell_type": "code",
   "execution_count": null,
   "id": "6c9caf45",
   "metadata": {},
   "outputs": [],
   "source": [
    "#Q2. What happens if you don&#39;t do something extra to treat an exception?\n",
    "\n",
    "When an exception occurred, if you don't handle it, the program terminates abruptly and the code past the line that caused the exception will not get executed.\n",
    "Because of not handling exceptions while deployment of end products users can face issues at their end while using the product."
   ]
  },
  {
   "cell_type": "code",
   "execution_count": null,
   "id": "9129e4fb",
   "metadata": {},
   "outputs": [],
   "source": [
    "#Q3. What are your options for recovering from an exception in your script?\n",
    "\n",
    "Exception handling and logging the exceptions are basic ideas that a programmer should follow. \n",
    "Also writing the code in modular fashion helps in easily fidong the errors in end products and logging make it easier for deelopers to resolve the issue at their end."
   ]
  },
  {
   "cell_type": "code",
   "execution_count": null,
   "id": "3fda4987",
   "metadata": {},
   "outputs": [],
   "source": [
    "#Q4. Describe two methods for triggering exceptions in your script.\n",
    "\n",
    "An unhandled exception displays an error message and the program suddenly crashes. To avoid such a scenario, there are two methods to handle Python exceptions:\n",
    "\n",
    "Try – This method catches the exceptions raised by the program\n",
    "\n",
    "Raise – Triggers an exception manually using custom exceptions"
   ]
  },
  {
   "cell_type": "code",
   "execution_count": null,
   "id": "0efa8f30",
   "metadata": {},
   "outputs": [],
   "source": [
    "#Q5. Identify two methods for specifying actions to be executed at termination time, regardless of whether or not an exception exists.\n",
    "\n",
    "These methods are finally and else a simple expmple using them is shown above."
   ]
  },
  {
   "cell_type": "code",
   "execution_count": null,
   "id": "85cfbcbf",
   "metadata": {},
   "outputs": [],
   "source": []
  }
 ],
 "metadata": {
  "kernelspec": {
   "display_name": "Python 3 (ipykernel)",
   "language": "python",
   "name": "python3"
  },
  "language_info": {
   "codemirror_mode": {
    "name": "ipython",
    "version": 3
   },
   "file_extension": ".py",
   "mimetype": "text/x-python",
   "name": "python",
   "nbconvert_exporter": "python",
   "pygments_lexer": "ipython3",
   "version": "3.9.4"
  }
 },
 "nbformat": 4,
 "nbformat_minor": 5
}
