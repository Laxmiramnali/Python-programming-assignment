{
 "cells": [
  {
   "cell_type": "code",
   "execution_count": 1,
   "id": "3d841d36",
   "metadata": {},
   "outputs": [],
   "source": [
    "#1. Write a Python Program to Find the Factorial of a Number?\n",
    "\n",
    "def factorial(n):\n",
    "    if n<0:\n",
    "        return -1\n",
    "    elif n==0:\n",
    "        return 1\n",
    "    else:\n",
    "        f=1\n",
    "        for i in range(1,n+1):\n",
    "            f*=i\n",
    "        return f"
   ]
  },
  {
   "cell_type": "code",
   "execution_count": 2,
   "id": "d1d06afb",
   "metadata": {},
   "outputs": [
    {
     "data": {
      "text/plain": [
       "120"
      ]
     },
     "execution_count": 2,
     "metadata": {},
     "output_type": "execute_result"
    }
   ],
   "source": [
    "factorial(5)"
   ]
  },
  {
   "cell_type": "code",
   "execution_count": 2,
   "id": "25aef537",
   "metadata": {},
   "outputs": [
    {
     "name": "stdout",
     "output_type": "stream",
     "text": [
      "Enter a number: 5\n",
      "5\n",
      "4\n",
      "3\n",
      "2\n",
      "1\n",
      "Factorial of  5 is 120\n"
     ]
    }
   ],
   "source": [
    "num = int(input(\"Enter a number: \"))\n",
    "\n",
    "fact = 1\n",
    "for i in range(num, 0, -1):\n",
    "    print(i)\n",
    "    fact = fact*i\n",
    "    \n",
    "print('Factorial of ',num,'is', fact)"
   ]
  },
  {
   "cell_type": "code",
   "execution_count": 4,
   "id": "174e6681",
   "metadata": {},
   "outputs": [
    {
     "name": "stdout",
     "output_type": "stream",
     "text": [
      "2 x 0 = 0\n",
      "2 x 1 = 2\n",
      "2 x 2 = 4\n",
      "2 x 3 = 6\n",
      "2 x 4 = 8\n",
      "2 x 5 = 10\n",
      "2 x 6 = 12\n",
      "2 x 7 = 14\n",
      "2 x 8 = 16\n",
      "2 x 9 = 18\n",
      "2 x 10 = 20\n"
     ]
    }
   ],
   "source": [
    "#2. Write a Python Program to Display the multiplication Table?\n",
    "\n",
    "num = 2\n",
    "\n",
    "for i in range(11):\n",
    "    print(num,'x',i,'=',num*i)"
   ]
  },
  {
   "cell_type": "code",
   "execution_count": 5,
   "id": "74af4b27",
   "metadata": {},
   "outputs": [
    {
     "name": "stdout",
     "output_type": "stream",
     "text": [
      "0 1 1 2 3 5 8 13 21 34 "
     ]
    }
   ],
   "source": [
    "#3. Write a Python Program to Print the Fibonacci sequence?\n",
    "\n",
    "num=0\n",
    "num1=1\n",
    "\n",
    "for i in range(10):\n",
    "    print(num,end=' ')\n",
    "    res=num+num1\n",
    "    \n",
    "    num=num1\n",
    "    num1=res"
   ]
  },
  {
   "cell_type": "code",
   "execution_count": 6,
   "id": "e5e303d8",
   "metadata": {},
   "outputs": [
    {
     "name": "stdout",
     "output_type": "stream",
     "text": [
      "Enter a number: 153\n",
      "153 is an Armstrong number\n"
     ]
    }
   ],
   "source": [
    "#4. Write a Python Program to Check Armstrong Number?\n",
    "\n",
    "n = int(input(\"Enter a number: \"))\n",
    "\n",
    "s = 0\n",
    "t = n\n",
    "\n",
    "while t > 0:\n",
    "    digit = t % 10\n",
    "    s += digit ** 3\n",
    "    t //= 10\n",
    "    \n",
    "\n",
    "if n == s:\n",
    "    print(n,\"is an Armstrong number\")\n",
    "\n",
    "else:\n",
    "    print(n,\"is not an Armstrong number\")"
   ]
  },
  {
   "cell_type": "code",
   "execution_count": 11,
   "id": "7cc13bc3",
   "metadata": {},
   "outputs": [
    {
     "name": "stdout",
     "output_type": "stream",
     "text": [
      "153\n",
      "370\n",
      "371\n",
      "407\n"
     ]
    }
   ],
   "source": [
    "#5. Write a Python Program to Find Armstrong Number in an Interval?\n",
    "lower = 100\n",
    "upper = 1000\n",
    "\n",
    "for num in range(lower, upper + 1):\n",
    "    order = len(str(num))\n",
    "    sum = 0\n",
    "    temp = num\n",
    "    \n",
    "    while temp > 0:\n",
    "        digit = temp % 10\n",
    "        sum += digit ** order\n",
    "        temp //= 10\n",
    "    if num == sum:\n",
    "        print(num)\n"
   ]
  },
  {
   "cell_type": "code",
   "execution_count": 23,
   "id": "aa1cecc5",
   "metadata": {},
   "outputs": [
    {
     "name": "stdout",
     "output_type": "stream",
     "text": [
      "5\n",
      "The sum is 5 + 4\n",
      "The sum is 9 + 3\n",
      "The sum is 12 + 2\n",
      "The sum is 14 + 1\n",
      "The sum is 15 + 0\n"
     ]
    }
   ],
   "source": [
    "#6. Write a Python Program to Find the Sum of Natural Numbers?\n",
    "\n",
    "num =int(input( ))\n",
    "\n",
    "if num < 0:\n",
    "    print(\"Enter a positive number\")\n",
    "else:\n",
    "    sum = 0\n",
    "    while(num > 0):\n",
    "        sum += num\n",
    "        num -= 1\n",
    "        print(\"The sum is\",sum,'+',num)\n",
    "        "
   ]
  },
  {
   "cell_type": "code",
   "execution_count": null,
   "id": "653b2640",
   "metadata": {},
   "outputs": [],
   "source": []
  }
 ],
 "metadata": {
  "kernelspec": {
   "display_name": "Python 3 (ipykernel)",
   "language": "python",
   "name": "python3"
  },
  "language_info": {
   "codemirror_mode": {
    "name": "ipython",
    "version": 3
   },
   "file_extension": ".py",
   "mimetype": "text/x-python",
   "name": "python",
   "nbconvert_exporter": "python",
   "pygments_lexer": "ipython3",
   "version": "3.9.4"
  }
 },
 "nbformat": 4,
 "nbformat_minor": 5
}
