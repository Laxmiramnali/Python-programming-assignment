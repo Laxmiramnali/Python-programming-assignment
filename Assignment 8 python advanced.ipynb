{
 "cells": [
  {
   "cell_type": "code",
   "execution_count": null,
   "id": "34698623",
   "metadata": {},
   "outputs": [],
   "source": [
    "#Q1. What are the two latest user-defined exception constraints in Python 3.X?\n",
    "\n",
    "Python also provides an exception handling method with the help of try-except. \n",
    "Some of the standard exceptions which are most frequent include IndexError, ImportError, IOError, ZeroDivisionError, TypeError, and FileNotFoundError."
   ]
  },
  {
   "cell_type": "code",
   "execution_count": null,
   "id": "27614df1",
   "metadata": {},
   "outputs": [],
   "source": [
    "#Q2. How are class-based exceptions that have been raised matched to handlers?\n",
    "\n",
    " A class-based exception can either cancel the current context or allow for a resume. Exceptions are raised using the statement RAISE EXCEPTION and handled using CATCH in a TRY control structure. Class-based exceptions can be raised in any procedures and can be further propagated by any procedures. \n",
    "    A common class based and user defined exception in a single program as shown in preious assignments can be division by zero."
   ]
  },
  {
   "cell_type": "code",
   "execution_count": null,
   "id": "dc17f2e4",
   "metadata": {},
   "outputs": [],
   "source": [
    "#Q3. Describe two methods for attaching context information to exception artefacts.\n",
    "\n",
    "IMPLICIT EXCEPTION CHAINING AND EXPLICIT EXCEPTION CHAINING can be done for attaching context information to exception artefacts.\n",
    "\n",
    "PEP proposes three standard attributes on exception instances: the context attribute for implicitly chained exceptions, the cause attribute for explicitly chained exceptions, and the traceback attribute for the traceback. \n",
    "    A new raise ... from statement sets the cause attribute.\n",
    "    An example to illustrate the context attribute():"
   ]
  },
  {
   "cell_type": "code",
   "execution_count": 1,
   "id": "729f81d0",
   "metadata": {},
   "outputs": [],
   "source": [
    "#IMPLICIT EXCEPTION CHAINING\n",
    "def compute(a, b):\n",
    "    try:\n",
    "        a/b\n",
    "    except Exception as exc:\n",
    "        log(exc)\n",
    "\n",
    "def log(exc):\n",
    "    file = open('logfile.txt')  # oops, forgot the 'w'\n",
    "    print(file, exc)\n",
    "    file.close()"
   ]
  },
  {
   "cell_type": "code",
   "execution_count": null,
   "id": "e6de461a",
   "metadata": {},
   "outputs": [],
   "source": [
    "#expicit exception chaining\n",
    "'''If the call to open() raises an exception, the problem will be reported as a DatabaseError, \n",
    "with a __cause__ attribute that reveals the IOError as the original cause.'''\n",
    "class DatabaseError(Exception):\n",
    "    pass\n",
    "\n",
    "class FileDatabase(Database):\n",
    "    def __init__(self, filename):\n",
    "        try:\n",
    "            self.file = open(filename)\n",
    "        except IOError as exc:\n",
    "            raise DatabaseError('failed to open') from exc"
   ]
  },
  {
   "cell_type": "code",
   "execution_count": null,
   "id": "a810ae30",
   "metadata": {},
   "outputs": [],
   "source": [
    "#traceback attribute\n",
    "def do_logged(file, work):\n",
    "    try:\n",
    "        work()\n",
    "    except Exception, exc:\n",
    "        write_exception(file, exc)\n",
    "        raise exc\n",
    "\n",
    "from traceback import format_tb\n",
    "\n",
    "def write_exception(file, exc):\n",
    "    ...\n",
    "    type = exc.__class__\n",
    "    message = str(exc)\n",
    "    lines = format_tb(exc.__traceback__)\n",
    "    file.write(... type ... message ... lines ...)\n",
    "    ...\n",
    "     "
   ]
  },
  {
   "cell_type": "code",
   "execution_count": null,
   "id": "23c7dc24",
   "metadata": {},
   "outputs": [],
   "source": [
    "#Q4. Describe two methods for specifying the text of an exception object&#39;s error message.\n",
    "\n",
    "try, except, else and finally in else and finally even in except we can add another try except blockto raise an exception that might still come. \n",
    "Basically, we can raise an excepion using the ecept block or using raise command."
   ]
  },
  {
   "cell_type": "code",
   "execution_count": null,
   "id": "e94779d2",
   "metadata": {},
   "outputs": [],
   "source": [
    "#Q5. Why do you no longer use string-based exceptions?\n",
    "\n",
    "Accordig to recent updates the standard exceptions are Python classes, and a few new standard exceptions have been added. \n",
    "The obsolete AccessError exception has been deleted. \n",
    "Because it is possible (although unlikely) that this change broke existing code, the Python interpreter can be invoked the command line option -X to disable this feature, and use string exceptions like before. \n",
    "This option is a temporary measure - eventually the string-based standard exceptions will be removed from the language altogether. \n",
    "It hasn't been decided whether user-defined string exceptions will be allowed in Python 2.0."
   ]
  },
  {
   "cell_type": "code",
   "execution_count": null,
   "id": "6a1b0d65",
   "metadata": {},
   "outputs": [],
   "source": [
    "#"
   ]
  },
  {
   "cell_type": "code",
   "execution_count": null,
   "id": "457fdc41",
   "metadata": {},
   "outputs": [],
   "source": [
    "#"
   ]
  },
  {
   "cell_type": "code",
   "execution_count": null,
   "id": "aaf30831",
   "metadata": {},
   "outputs": [],
   "source": [
    "#"
   ]
  },
  {
   "cell_type": "code",
   "execution_count": null,
   "id": "6ba65d5a",
   "metadata": {},
   "outputs": [],
   "source": [
    "#"
   ]
  }
 ],
 "metadata": {
  "kernelspec": {
   "display_name": "Python 3 (ipykernel)",
   "language": "python",
   "name": "python3"
  },
  "language_info": {
   "codemirror_mode": {
    "name": "ipython",
    "version": 3
   },
   "file_extension": ".py",
   "mimetype": "text/x-python",
   "name": "python",
   "nbconvert_exporter": "python",
   "pygments_lexer": "ipython3",
   "version": "3.9.4"
  }
 },
 "nbformat": 4,
 "nbformat_minor": 5
}
