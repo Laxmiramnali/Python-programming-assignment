{
 "cells": [
  {
   "cell_type": "code",
   "execution_count": null,
   "id": "a8334c17",
   "metadata": {},
   "outputs": [],
   "source": [
    "#Q1. In Python 3.X, what are the names and functions of string object types?\n",
    "\n",
    "There are many string functions some of them are mentioned below isascii(), islower(), isdigit(), upper(), lower(), lstrip(). rstrip()\n",
    "\n",
    "basically after definign the string we can use (dot) and them tab in jupyter notebook or ctrl+space in colab to access these we don't need to remember them.\n"
   ]
  },
  {
   "cell_type": "code",
   "execution_count": null,
   "id": "f038a910",
   "metadata": {},
   "outputs": [],
   "source": [
    "#Q2. How do the string forms in Python 3.X vary in terms of operations?\n",
    "\n",
    "The type can be used with format codes just add a % symbol before them :\n",
    "\n",
    "‘d’ for integers\n",
    "‘f’ for floating-point numbers\n",
    "‘b’ for binary numbers\n",
    "‘o’ for octal numbers\n",
    "‘x’ for octal hexadecimal numbers\n",
    "‘s’ for string\n",
    "‘e’ for floating-point in an exponent format"
   ]
  },
  {
   "cell_type": "code",
   "execution_count": 1,
   "id": "e2c7f01c",
   "metadata": {},
   "outputs": [
    {
     "data": {
      "text/plain": [
       "97"
      ]
     },
     "execution_count": 1,
     "metadata": {},
     "output_type": "execute_result"
    }
   ],
   "source": [
    "#Q3. In 3.X, how do you put non-ASCII Unicode characters in a string?\n",
    "\n",
    "#In order to use non-ASCII characters, Python requires explicit encoding and decoding of strings into Unicode. we can check using the ascii value using ord()\n",
    "\n",
    "\n",
    "ord(\"a\")\n",
    "     "
   ]
  },
  {
   "cell_type": "code",
   "execution_count": 2,
   "id": "c3f71088",
   "metadata": {},
   "outputs": [
    {
     "data": {
      "text/plain": [
       "33"
      ]
     },
     "execution_count": 2,
     "metadata": {},
     "output_type": "execute_result"
    }
   ],
   "source": [
    "ord(\"!\")\n",
    "     "
   ]
  },
  {
   "cell_type": "code",
   "execution_count": null,
   "id": "b4e6d7da",
   "metadata": {},
   "outputs": [],
   "source": [
    "#Q4. In Python 3.X, what are the key differences between text-mode and binary-mode files?\n",
    "\n",
    "The major difference between these two is that a text file contains textual information in the form of alphabets, digits and special characters or symbols. On the other hand, a binary file contains bytes or a compiled version of a text file."
   ]
  },
  {
   "cell_type": "code",
   "execution_count": null,
   "id": "c64c2be7",
   "metadata": {},
   "outputs": [],
   "source": [
    "#Q5. How can you interpret a Unicode text file containing text encoded in a different encoding than your platform&#39;s default?\n",
    "\n",
    "we can do it by hit and trieal trying different types of ending like utf-8, utf-16 etc."
   ]
  },
  {
   "cell_type": "code",
   "execution_count": 6,
   "id": "4a7b0d44",
   "metadata": {},
   "outputs": [
    {
     "name": "stdout",
     "output_type": "stream",
     "text": [
      "ʑʒʓʔʕʗʘʙʚʛʜʝʞ\n"
     ]
    }
   ],
   "source": [
    "a_file = open(\"textfile.txt\", \"r\", encoding=\"utf-8\")\n",
    "contents = a_file.read()\n",
    "print(contents)\n",
    "a_file.close()"
   ]
  },
  {
   "cell_type": "code",
   "execution_count": null,
   "id": "5c950d02",
   "metadata": {},
   "outputs": [],
   "source": [
    "#Q7. What qualifies ASCII text as a form of Unicode text?\n",
    "\n",
    "The first 128 Unicode code points represent the ASCII characters, which means that any ASCII text is also a UTF-8 text. As long as it contains no code points in the reserved range U+D800–U+DFFF, a UCS-2 text is valid UTF-16 text.\n",
    "\n",
    "Encoding formats: UTF-8; UTF-16; GB18030;\n",
    "\n",
    "Standard: Unicode Standard\n",
    "\n",
    "Alias(es): Universal Coded Character Set (UCS)"
   ]
  },
  {
   "cell_type": "code",
   "execution_count": null,
   "id": "32d4123f",
   "metadata": {},
   "outputs": [],
   "source": [
    "#Q8. How much of an effect does the change in string types in Python 3.X have on your code?\n",
    "\n",
    "One of the most noticeable changes in Python 3.0 is the mutation of string object types. In a nutshell, 2.X's str and unicode types have morphed into 3.X's bytes and str types, and a new mutable bytearray type has been added. Especially if you process data that is either Unicode or binary in nature, this can have substantial impacts on your code"
   ]
  }
 ],
 "metadata": {
  "kernelspec": {
   "display_name": "Python 3 (ipykernel)",
   "language": "python",
   "name": "python3"
  },
  "language_info": {
   "codemirror_mode": {
    "name": "ipython",
    "version": 3
   },
   "file_extension": ".py",
   "mimetype": "text/x-python",
   "name": "python",
   "nbconvert_exporter": "python",
   "pygments_lexer": "ipython3",
   "version": "3.9.4"
  }
 },
 "nbformat": 4,
 "nbformat_minor": 5
}
