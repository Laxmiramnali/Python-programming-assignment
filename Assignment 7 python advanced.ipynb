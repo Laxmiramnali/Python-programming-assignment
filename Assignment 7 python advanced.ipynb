{
 "cells": [
  {
   "cell_type": "code",
   "execution_count": null,
   "id": "148a1afa",
   "metadata": {},
   "outputs": [],
   "source": [
    "#Q1. What is the purpose of the try statement?\n",
    "\n",
    " The try statement allows a programmer to define a block of code to be tested for errors while it is being executed. \n",
    "The catch statement allows you to define a block of code to be executed, if an error occurs in the try block."
   ]
  },
  {
   "cell_type": "code",
   "execution_count": null,
   "id": "c881c951",
   "metadata": {},
   "outputs": [],
   "source": [
    "#Q2. What are the two most popular try statement variations?\n",
    "\n",
    "Variation 1:\n",
    "\n",
    "try: # Some Code except: # Executed if error in the # try block\n",
    "\n",
    "Variation 2:\n",
    "\n",
    "try: # Some Code except: # Executed if error in the # try block else: # execute if no exception\n",
    "\n",
    "Variation 3:\n",
    "\n",
    "try: # Some Code except: # Executed if error in the # try block else: # execute if no exception finally: # Some code .....(always executed)"
   ]
  },
  {
   "cell_type": "code",
   "execution_count": 12,
   "id": "75102e0f",
   "metadata": {},
   "outputs": [
    {
     "ename": "TypeError",
     "evalue": "'str' object is not callable",
     "output_type": "error",
     "traceback": [
      "\u001b[1;31m---------------------------------------------------------------------------\u001b[0m",
      "\u001b[1;31mTypeError\u001b[0m                                 Traceback (most recent call last)",
      "\u001b[1;32m~\\AppData\\Local\\Temp/ipykernel_17348/1993675139.py\u001b[0m in \u001b[0;36m<module>\u001b[1;34m\u001b[0m\n\u001b[0;32m      2\u001b[0m \u001b[1;33m\u001b[0m\u001b[0m\n\u001b[0;32m      3\u001b[0m \u001b[1;31m#raising an exception\u001b[0m\u001b[1;33m\u001b[0m\u001b[1;33m\u001b[0m\u001b[1;33m\u001b[0m\u001b[0m\n\u001b[1;32m----> 4\u001b[1;33m \u001b[0minput\u001b[0m \u001b[1;33m=\u001b[0m \u001b[0minput\u001b[0m\u001b[1;33m(\u001b[0m\u001b[1;34m\"Enter the input:\"\u001b[0m\u001b[1;33m)\u001b[0m\u001b[1;33m\u001b[0m\u001b[1;33m\u001b[0m\u001b[0m\n\u001b[0m\u001b[0;32m      5\u001b[0m \u001b[1;32mif\u001b[0m \u001b[1;32mnot\u001b[0m \u001b[0mtype\u001b[0m\u001b[1;33m(\u001b[0m\u001b[0minput\u001b[0m\u001b[1;33m)\u001b[0m \u001b[1;32mis\u001b[0m \u001b[0mint\u001b[0m\u001b[1;33m:\u001b[0m\u001b[1;33m\u001b[0m\u001b[1;33m\u001b[0m\u001b[0m\n\u001b[0;32m      6\u001b[0m   \u001b[1;32mraise\u001b[0m \u001b[0mTypeError\u001b[0m\u001b[1;33m(\u001b[0m\u001b[1;34m\"Only integers are allowed\"\u001b[0m\u001b[1;33m)\u001b[0m \u001b[1;31m#exception will be thrown\u001b[0m\u001b[1;33m\u001b[0m\u001b[1;33m\u001b[0m\u001b[0m\n",
      "\u001b[1;31mTypeError\u001b[0m: 'str' object is not callable"
     ]
    }
   ],
   "source": [
    "#Q3. What is the purpose of the raise statement?\n",
    "\n",
    "#raising an exception \n",
    "input = input(\"Enter the input:\")\n",
    "if not type(input) is int:\n",
    "  raise TypeError(\"Only integers are allowed\") #exception will be thrown\n",
    "     "
   ]
  },
  {
   "cell_type": "code",
   "execution_count": 16,
   "id": "82f81e9a",
   "metadata": {},
   "outputs": [
    {
     "ename": "TypeError",
     "evalue": "'str' object is not callable",
     "output_type": "error",
     "traceback": [
      "\u001b[1;31m---------------------------------------------------------------------------\u001b[0m",
      "\u001b[1;31mTypeError\u001b[0m                                 Traceback (most recent call last)",
      "\u001b[1;32m~\\AppData\\Local\\Temp/ipykernel_17348/4224144736.py\u001b[0m in \u001b[0;36m<module>\u001b[1;34m\u001b[0m\n\u001b[0;32m      3\u001b[0m \u001b[1;33m\u001b[0m\u001b[0m\n\u001b[0;32m      4\u001b[0m \u001b[1;31m#raising an exception\u001b[0m\u001b[1;33m\u001b[0m\u001b[1;33m\u001b[0m\u001b[1;33m\u001b[0m\u001b[0m\n\u001b[1;32m----> 5\u001b[1;33m \u001b[0minput\u001b[0m \u001b[1;33m=\u001b[0m \u001b[0minput\u001b[0m\u001b[1;33m(\u001b[0m\u001b[1;34m\"Enter the input:\"\u001b[0m\u001b[1;33m)\u001b[0m\u001b[1;33m\u001b[0m\u001b[1;33m\u001b[0m\u001b[0m\n\u001b[0m\u001b[0;32m      6\u001b[0m \u001b[1;32mif\u001b[0m \u001b[1;32mnot\u001b[0m \u001b[0mtype\u001b[0m\u001b[1;33m(\u001b[0m\u001b[0minput\u001b[0m\u001b[1;33m)\u001b[0m \u001b[1;32mis\u001b[0m \u001b[0mint\u001b[0m\u001b[1;33m:\u001b[0m\u001b[1;33m\u001b[0m\u001b[1;33m\u001b[0m\u001b[0m\n\u001b[0;32m      7\u001b[0m   \u001b[1;32mraise\u001b[0m \u001b[0mTypeError\u001b[0m\u001b[1;33m(\u001b[0m\u001b[1;34m\"Only integers are allowed\"\u001b[0m\u001b[1;33m)\u001b[0m \u001b[1;31m#exception will be thrown\u001b[0m\u001b[1;33m\u001b[0m\u001b[1;33m\u001b[0m\u001b[0m\n",
      "\u001b[1;31mTypeError\u001b[0m: 'str' object is not callable"
     ]
    }
   ],
   "source": [
    "#Q3. What is the purpose of the raise statement? Answer: The raise keyword is used to raise an exception. We can define what kind of error to raise, and the text to print to the user.\n",
    "\n",
    "\n",
    "#raising an exception \n",
    "input = input(\"Enter the input:\")\n",
    "if not type(input) is int:\n",
    "  raise TypeError(\"Only integers are allowed\") #exception will be thrown"
   ]
  },
  {
   "cell_type": "code",
   "execution_count": null,
   "id": "f45acc39",
   "metadata": {},
   "outputs": [],
   "source": [
    "#Q4. What does the assert statement do, and what other statement is it like?\n",
    "\n",
    "An assert statement checks whether a condition is true. If a condition evaluates to True, a program will keep running. \n",
    "If a condition is false, the program will return an AssertionError. \n",
    "At this point, the program will stop executing. Assertion is like raise statement."
   ]
  },
  {
   "cell_type": "code",
   "execution_count": null,
   "id": "d5c30d91",
   "metadata": {},
   "outputs": [],
   "source": [
    "#Q5. What is the purpose of the with/as argument, and what other statement is it like?\n",
    "\n",
    "The with statement in Python is used for resource management and exception handling. \n",
    "We use it while working with file streams. \n",
    "For example, the statement ensures that the file stream process doesn't block other processes if an exception is raised, but terminates properly. \n",
    "We can use a try statement or block it is somewhat similar to with."
   ]
  },
  {
   "cell_type": "code",
   "execution_count": null,
   "id": "df2eb75e",
   "metadata": {},
   "outputs": [],
   "source": [
    "#"
   ]
  }
 ],
 "metadata": {
  "kernelspec": {
   "display_name": "Python 3 (ipykernel)",
   "language": "python",
   "name": "python3"
  },
  "language_info": {
   "codemirror_mode": {
    "name": "ipython",
    "version": 3
   },
   "file_extension": ".py",
   "mimetype": "text/x-python",
   "name": "python",
   "nbconvert_exporter": "python",
   "pygments_lexer": "ipython3",
   "version": "3.9.4"
  }
 },
 "nbformat": 4,
 "nbformat_minor": 5
}
